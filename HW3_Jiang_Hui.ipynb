{
 "cells": [
  {
   "cell_type": "markdown",
   "id": "74003be4",
   "metadata": {},
   "source": [
    "## Question1"
   ]
  },
  {
   "cell_type": "markdown",
   "id": "d0c6945f",
   "metadata": {},
   "source": [
    "### Q1:"
   ]
  },
  {
   "cell_type": "code",
   "execution_count": 27,
   "id": "2cfa2e23",
   "metadata": {},
   "outputs": [],
   "source": [
    "def a_dictionary(name):\n",
    "    marks={'Andy':88, \"Amy\":66, 'James':90, 'Arthur':77}\n",
    "    if name in marks.keys():\n",
    "        print(marks[name])\n",
    "    else:\n",
    "        print('you cannot find this studnet\\'s name')"
   ]
  },
  {
   "cell_type": "markdown",
   "id": "85fa8aa8",
   "metadata": {},
   "source": [
    "### Q2:"
   ]
  },
  {
   "cell_type": "code",
   "execution_count": 28,
   "id": "9b8e7599",
   "metadata": {},
   "outputs": [
    {
     "data": {
      "text/plain": [
       "80.25"
      ]
     },
     "execution_count": 28,
     "metadata": {},
     "output_type": "execute_result"
    }
   ],
   "source": [
    "def ave_function():\n",
    "    marks={'Andy':88, \"Amy\":66, 'James':90, 'Arthur':77}\n",
    "    average=sum(marks.values())/len(marks)\n",
    "    return average\n",
    "    \n",
    "ave_function()"
   ]
  },
  {
   "cell_type": "markdown",
   "id": "82603c5f",
   "metadata": {},
   "source": [
    "## Question2"
   ]
  },
  {
   "cell_type": "code",
   "execution_count": null,
   "id": "8f5486e1",
   "metadata": {},
   "outputs": [],
   "source": [
    "def less_than(num=8):\n",
    "    while n<num:\n",
    "        print(n, n**2)\n",
    "    else:\n",
    "        print('greater than', num)"
   ]
  },
  {
   "cell_type": "markdown",
   "id": "d6d51704",
   "metadata": {},
   "source": [
    "## Question3"
   ]
  },
  {
   "cell_type": "code",
   "execution_count": 43,
   "id": "247b581d",
   "metadata": {},
   "outputs": [
    {
     "name": "stdout",
     "output_type": "stream",
     "text": [
      "15\n"
     ]
    }
   ],
   "source": [
    "def sum_fun(num):\n",
    "    total=0\n",
    "    for i in range(1,num+1):\n",
    "        total+=i\n",
    "        i+=1\n",
    "    print(total)"
   ]
  },
  {
   "cell_type": "markdown",
   "id": "16e040e7",
   "metadata": {},
   "source": [
    "## Question4"
   ]
  },
  {
   "cell_type": "code",
   "execution_count": 45,
   "id": "b45260f2",
   "metadata": {},
   "outputs": [],
   "source": [
    "def sumup(num):\n",
    "    total=0\n",
    "    for i in range(1,num+1):\n",
    "        total+=i\n",
    "        i+=1\n",
    "        print(total)"
   ]
  },
  {
   "cell_type": "markdown",
   "id": "41edc7ec",
   "metadata": {},
   "source": [
    "## Question5"
   ]
  },
  {
   "cell_type": "code",
   "execution_count": 46,
   "id": "004e1f5b",
   "metadata": {},
   "outputs": [
    {
     "data": {
      "text/plain": [
       "(50.5, 5050, 28.86607004772212)"
      ]
     },
     "execution_count": 46,
     "metadata": {},
     "output_type": "execute_result"
    }
   ],
   "source": [
    "import statistics as stats\n",
    "list1=[]\n",
    "for i in range(1,101):\n",
    "    list1.append(i)\n",
    "def calculation(list=list1):\n",
    "    mean=stats.mean(list)\n",
    "    total=sum(list)\n",
    "    standard_d=stats.pstdev(list)\n",
    "    return(mean, total, standard_d)\n",
    "\n",
    "calculation()"
   ]
  },
  {
   "cell_type": "markdown",
   "id": "6ef4f5cb",
   "metadata": {},
   "source": [
    "## Question6"
   ]
  },
  {
   "cell_type": "code",
   "execution_count": 47,
   "id": "b03dc713",
   "metadata": {},
   "outputs": [],
   "source": [
    "def minimum(v1,v2, v3, v4):\n",
    "    minimum_value=v1\n",
    "    if v2<minimum_value:\n",
    "        minimum_value=v2\n",
    "    if v3<minimum_value:\n",
    "        minimim_value=v3\n",
    "    if v4<minimum_value:\n",
    "        minimum_value=v4\n",
    "    return minimum_value    "
   ]
  },
  {
   "cell_type": "markdown",
   "id": "49135e05",
   "metadata": {},
   "source": [
    "## Question7"
   ]
  },
  {
   "cell_type": "code",
   "execution_count": 25,
   "id": "b1036d29",
   "metadata": {},
   "outputs": [],
   "source": [
    "def my_function(a1,a2,a3):\n",
    "    return(f'{a1} {a2} {a3}')"
   ]
  }
 ],
 "metadata": {
  "kernelspec": {
   "display_name": "Python 3 (ipykernel)",
   "language": "python",
   "name": "python3"
  },
  "language_info": {
   "codemirror_mode": {
    "name": "ipython",
    "version": 3
   },
   "file_extension": ".py",
   "mimetype": "text/x-python",
   "name": "python",
   "nbconvert_exporter": "python",
   "pygments_lexer": "ipython3",
   "version": "3.9.13"
  }
 },
 "nbformat": 4,
 "nbformat_minor": 5
}
