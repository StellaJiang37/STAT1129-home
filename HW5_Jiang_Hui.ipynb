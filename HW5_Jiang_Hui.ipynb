{
 "cells": [
  {
   "cell_type": "markdown",
   "id": "8aeea500",
   "metadata": {},
   "source": [
    "## 1."
   ]
  },
  {
   "cell_type": "code",
   "execution_count": 6,
   "id": "f9c75b58",
   "metadata": {},
   "outputs": [],
   "source": [
    "class Human:\n",
    "    heart=True\n",
    "    brain=True\n",
    "    mouth=1\n",
    "    \n",
    "    def __init__(self, name, height, weight, skincolor, nationality ):\n",
    "        self.name=name\n",
    "        self.height=height\n",
    "        self.weight=weight\n",
    "        self.skincolor=skincolor\n",
    "        self.nationality=nationality\n",
    "\n",
    "A=Human(\"Stella\", 174, 120, \"yellow\", \"China\")\n",
    "B=Human(\"Cynthia\", 165,105, \"white\", \"US\")"
   ]
  },
  {
   "cell_type": "markdown",
   "id": "f679173f",
   "metadata": {},
   "source": [
    "## 2."
   ]
  },
  {
   "cell_type": "code",
   "execution_count": 76,
   "id": "392c598b",
   "metadata": {},
   "outputs": [],
   "source": [
    "import math\n",
    "class Point():\n",
    "    def __init__(self, x=0, y=0):\n",
    "        self.x=x\n",
    "        self.y=y\n",
    "    def dist_to_origin(self):\n",
    "        dist=math.sqrt(self.x**2+self.y**2)\n",
    "        return dist"
   ]
  },
  {
   "cell_type": "markdown",
   "id": "385d906c",
   "metadata": {},
   "source": [
    "## 3. Answer: A"
   ]
  },
  {
   "cell_type": "code",
   "execution_count": 36,
   "id": "71364200",
   "metadata": {},
   "outputs": [
    {
     "ename": "AttributeError",
     "evalue": "'B' object has no attribute 'i'",
     "output_type": "error",
     "traceback": [
      "\u001b[0;31m---------------------------------------------------------------------------\u001b[0m",
      "\u001b[0;31mAttributeError\u001b[0m                            Traceback (most recent call last)",
      "\u001b[0;32m/var/folders/5j/z623hz612z756bc6k3019bjw0000gn/T/ipykernel_89516/417134158.py\u001b[0m in \u001b[0;36m<module>\u001b[0;34m\u001b[0m\n\u001b[1;32m     12\u001b[0m     \u001b[0mprint\u001b[0m\u001b[0;34m(\u001b[0m\u001b[0mb\u001b[0m\u001b[0;34m.\u001b[0m\u001b[0mj\u001b[0m\u001b[0;34m)\u001b[0m\u001b[0;34m\u001b[0m\u001b[0;34m\u001b[0m\u001b[0m\n\u001b[1;32m     13\u001b[0m \u001b[0;34m\u001b[0m\u001b[0m\n\u001b[0;32m---> 14\u001b[0;31m \u001b[0mmain\u001b[0m\u001b[0;34m(\u001b[0m\u001b[0;34m)\u001b[0m\u001b[0;34m\u001b[0m\u001b[0;34m\u001b[0m\u001b[0m\n\u001b[0m",
      "\u001b[0;32m/var/folders/5j/z623hz612z756bc6k3019bjw0000gn/T/ipykernel_89516/417134158.py\u001b[0m in \u001b[0;36mmain\u001b[0;34m()\u001b[0m\n\u001b[1;32m      9\u001b[0m \u001b[0;32mdef\u001b[0m \u001b[0mmain\u001b[0m\u001b[0;34m(\u001b[0m\u001b[0;34m)\u001b[0m\u001b[0;34m:\u001b[0m\u001b[0;34m\u001b[0m\u001b[0;34m\u001b[0m\u001b[0m\n\u001b[1;32m     10\u001b[0m     \u001b[0mb\u001b[0m\u001b[0;34m=\u001b[0m\u001b[0mB\u001b[0m\u001b[0;34m(\u001b[0m\u001b[0;34m)\u001b[0m\u001b[0;34m\u001b[0m\u001b[0;34m\u001b[0m\u001b[0m\n\u001b[0;32m---> 11\u001b[0;31m     \u001b[0mprint\u001b[0m\u001b[0;34m(\u001b[0m\u001b[0mb\u001b[0m\u001b[0;34m.\u001b[0m\u001b[0mi\u001b[0m\u001b[0;34m)\u001b[0m\u001b[0;34m\u001b[0m\u001b[0;34m\u001b[0m\u001b[0m\n\u001b[0m\u001b[1;32m     12\u001b[0m     \u001b[0mprint\u001b[0m\u001b[0;34m(\u001b[0m\u001b[0mb\u001b[0m\u001b[0;34m.\u001b[0m\u001b[0mj\u001b[0m\u001b[0;34m)\u001b[0m\u001b[0;34m\u001b[0m\u001b[0;34m\u001b[0m\u001b[0m\n\u001b[1;32m     13\u001b[0m \u001b[0;34m\u001b[0m\u001b[0m\n",
      "\u001b[0;31mAttributeError\u001b[0m: 'B' object has no attribute 'i'"
     ]
    }
   ],
   "source": [
    "class A:\n",
    "    def __nit__(self, i=0):\n",
    "        self.i=i\n",
    "    \n",
    "class B(A):\n",
    "    def __init__(self, j=0):\n",
    "        self.j=j\n",
    "        \n",
    "def main():\n",
    "    b=B()\n",
    "    print(b.i)\n",
    "    print(b.j)\n",
    "    \n",
    "main()"
   ]
  },
  {
   "cell_type": "markdown",
   "id": "11e75c9f",
   "metadata": {},
   "source": [
    "## 4."
   ]
  },
  {
   "cell_type": "code",
   "execution_count": 37,
   "id": "28c14427",
   "metadata": {},
   "outputs": [
    {
     "name": "stdout",
     "output_type": "stream",
     "text": [
      "hello world\n"
     ]
    }
   ],
   "source": [
    "def main():\n",
    "    print(\"hello\", end=\" \")\n",
    "try:\n",
    "    if __name__ == \"__main__\":\n",
    "        main()\n",
    "except: \n",
    "    print(\"name\")\n",
    "finally:\n",
    "    print(\"world\")\n",
    "    "
   ]
  },
  {
   "cell_type": "markdown",
   "id": "3d7248b7",
   "metadata": {},
   "source": [
    "## 5. Answer: C"
   ]
  },
  {
   "cell_type": "code",
   "execution_count": 3,
   "id": "08b6cde5",
   "metadata": {},
   "outputs": [
    {
     "name": "stdout",
     "output_type": "stream",
     "text": [
      "Sally\n"
     ]
    }
   ],
   "source": [
    "class People():\n",
    "    def __init__(self, name):\n",
    "        self.name=name\n",
    "        \n",
    "    def namePrint(self):\n",
    "        print(self.name)\n",
    "        \n",
    "person1 = People(\"Sally\")\n",
    "person2 = People(\"Louise\")\n",
    "person1. namePrint()"
   ]
  }
 ],
 "metadata": {
  "kernelspec": {
   "display_name": "Python 3 (ipykernel)",
   "language": "python",
   "name": "python3"
  },
  "language_info": {
   "codemirror_mode": {
    "name": "ipython",
    "version": 3
   },
   "file_extension": ".py",
   "mimetype": "text/x-python",
   "name": "python",
   "nbconvert_exporter": "python",
   "pygments_lexer": "ipython3",
   "version": "3.9.13"
  }
 },
 "nbformat": 4,
 "nbformat_minor": 5
}
