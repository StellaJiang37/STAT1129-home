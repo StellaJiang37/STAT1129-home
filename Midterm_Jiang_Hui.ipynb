{
 "cells": [
  {
   "cell_type": "markdown",
   "id": "00f8e21f",
   "metadata": {},
   "source": [
    "## Question1"
   ]
  },
  {
   "cell_type": "code",
   "execution_count": 158,
   "id": "7185670f",
   "metadata": {},
   "outputs": [
    {
     "data": {
      "text/plain": [
       "[2,\n",
       " 4,\n",
       " 6,\n",
       " 8,\n",
       " 4,\n",
       " 5,\n",
       " 2,\n",
       " 1,\n",
       " 9,\n",
       " 0,\n",
       " 4,\n",
       " 6,\n",
       " 7,\n",
       " 4,\n",
       " 3,\n",
       " 2,\n",
       " 1,\n",
       " 9,\n",
       " 10,\n",
       " 3,\n",
       " 7,\n",
       " 9,\n",
       " 6,\n",
       " 0,\n",
       " 1,\n",
       " 3,\n",
       " 5,\n",
       " 6,\n",
       " 7,\n",
       " 8,\n",
       " 9,\n",
       " 10,\n",
       " 2,\n",
       " 3,\n",
       " 6,\n",
       " 8,\n",
       " 9,\n",
       " 10,\n",
       " 6,\n",
       " 7,\n",
       " 4,\n",
       " 3,\n",
       " 2,\n",
       " 1,\n",
       " 9,\n",
       " 10,\n",
       " 3,\n",
       " 7,\n",
       " 9,\n",
       " 6,\n",
       " 0,\n",
       " 1,\n",
       " 3,\n",
       " 5,\n",
       " 6,\n",
       " 7,\n",
       " 8,\n",
       " 9,\n",
       " 10,\n",
       " 2,\n",
       " 3,\n",
       " 6,\n",
       " 8,\n",
       " 9,\n",
       " 10,\n",
       " 2,\n",
       " 4,\n",
       " 6,\n",
       " 8,\n",
       " 4,\n",
       " 5,\n",
       " 2,\n",
       " 1,\n",
       " 9,\n",
       " 0,\n",
       " 4,\n",
       " 6,\n",
       " 7,\n",
       " 4,\n",
       " 3,\n",
       " 2,\n",
       " 1,\n",
       " 9,\n",
       " 10,\n",
       " 3,\n",
       " 7,\n",
       " 9,\n",
       " 6,\n",
       " 4,\n",
       " 5,\n",
       " 2,\n",
       " 1,\n",
       " 9,\n",
       " 0,\n",
       " 4,\n",
       " 6,\n",
       " 7,\n",
       " 4,\n",
       " 3,\n",
       " 2,\n",
       " 1,\n",
       " 9,\n",
       " 10,\n",
       " 3,\n",
       " 7,\n",
       " 9,\n",
       " 6,\n",
       " 0,\n",
       " 1,\n",
       " 3,\n",
       " 5,\n",
       " 6,\n",
       " 7,\n",
       " 8,\n",
       " 9,\n",
       " 10,\n",
       " 2,\n",
       " 3,\n",
       " 6,\n",
       " 8,\n",
       " 9,\n",
       " 10,\n",
       " 6,\n",
       " 7,\n",
       " 4,\n",
       " 3,\n",
       " 6,\n",
       " 8,\n",
       " 4,\n",
       " 5,\n",
       " 2,\n",
       " 10,\n",
       " 3,\n",
       " 7,\n",
       " 9,\n",
       " 6,\n",
       " 0,\n",
       " 1,\n",
       " 3,\n",
       " 5,\n",
       " 6,\n",
       " 7,\n",
       " 8,\n",
       " 9,\n",
       " 10,\n",
       " 2,\n",
       " 3,\n",
       " 6,\n",
       " 8,\n",
       " 9,\n",
       " 10,\n",
       " 2,\n",
       " 4,\n",
       " 6,\n",
       " 8,\n",
       " 4,\n",
       " 5,\n",
       " 2,\n",
       " 1,\n",
       " 9,\n",
       " 0,\n",
       " 4,\n",
       " 6,\n",
       " 7,\n",
       " 4,\n",
       " 2,\n",
       " 4,\n",
       " 6,\n",
       " 8,\n",
       " 4,\n",
       " 5,\n",
       " 2,\n",
       " 1,\n",
       " 9,\n",
       " 0,\n",
       " 4,\n",
       " 6,\n",
       " 7,\n",
       " 4,\n",
       " 3,\n",
       " 2,\n",
       " 1,\n",
       " 9,\n",
       " 10,\n",
       " 3,\n",
       " 7,\n",
       " 9,\n",
       " 6]"
      ]
     },
     "execution_count": 158,
     "metadata": {},
     "output_type": "execute_result"
    }
   ],
   "source": [
    "with open('numbers.txt') as f:\n",
    "    contents = f.read()\n",
    "numbers = [int(i) for i in sum([i.split(',')\\\n",
    "                  for i in contents.split('\\n')],[])]\n",
    "numbers"
   ]
  },
  {
   "cell_type": "code",
   "execution_count": 102,
   "id": "56d5f9a2",
   "metadata": {},
   "outputs": [],
   "source": [
    "numbers.sort()"
   ]
  },
  {
   "cell_type": "code",
   "execution_count": 103,
   "id": "959b2b5a",
   "metadata": {},
   "outputs": [
    {
     "name": "stdout",
     "output_type": "stream",
     "text": [
      "0: 9\n",
      "1: 14\n",
      "2: 19\n",
      "3: 20\n",
      "4: 22\n",
      "5: 10\n",
      "6: 26\n",
      "7: 17\n",
      "8: 13\n",
      "9: 24\n",
      "10: 14\n"
     ]
    }
   ],
   "source": [
    "def CountFreq(nums):\n",
    "    freq={}\n",
    "    for i in nums:\n",
    "        freq[i]=nums.count(i)\n",
    "       \n",
    "        \n",
    "    for key, value in freq.items():\n",
    "        print(f'{key}: {value}')\n",
    "        \n",
    "           \n",
    "CountFreq(numbers)"
   ]
  },
  {
   "cell_type": "code",
   "execution_count": 156,
   "id": "df886955",
   "metadata": {},
   "outputs": [
    {
     "data": {
      "image/png": "[encoded data removed]",
      "text/plain": [
       "<Figure size 640x480 with 1 Axes>"
      ]
     },
     "metadata": {},
     "output_type": "display_data"
    }
   ],
   "source": [
    "import matplotlib.pyplot as plt\n",
    "plt.hist(numbers, align='left', edgecolor='w', bins=11, \\\n",
    "         facecolor='#42b4e6')\n",
    "plt.xlabel(\"Numbers\")\n",
    "plt.ylabel(\"Frequency\")\n",
    "\n",
    "plt.show()"
   ]
  },
  {
   "cell_type": "code",
   "execution_count": 394,
   "id": "98bb3426",
   "metadata": {},
   "outputs": [],
   "source": [
    "import json\n",
    "with open('numbers.json', 'w') as out:\n",
    "    json.dump(numbers, out)"
   ]
  },
  {
   "cell_type": "code",
   "execution_count": 393,
   "id": "2fef3667",
   "metadata": {},
   "outputs": [
    {
     "name": "stdout",
     "output_type": "stream",
     "text": [
      "[2, 4, 6, 8, 4, 5, 2, 1, 9, 0, 4, 6, 7, 4, 3, 2, 1, 9, 10, 3, 7, 9, 6, 0, 1, 3, 5, 6, 7, 8, 9, 10, 2, 3, 6, 8, 9, 10, 6, 7, 4, 3, 2, 1, 9, 10, 3, 7, 9, 6, 0, 1, 3, 5, 6, 7, 8, 9, 10, 2, 3, 6, 8, 9, 10, 2, 4, 6, 8, 4, 5, 2, 1, 9, 0, 4, 6, 7, 4, 3, 2, 1, 9, 10, 3, 7, 9, 6, 4, 5, 2, 1, 9, 0, 4, 6, 7, 4, 3, 2, 1, 9, 10, 3, 7, 9, 6, 0, 1, 3, 5, 6, 7, 8, 9, 10, 2, 3, 6, 8, 9, 10, 6, 7, 4, 3, 6, 8, 4, 5, 2, 10, 3, 7, 9, 6, 0, 1, 3, 5, 6, 7, 8, 9, 10, 2, 3, 6, 8, 9, 10, 2, 4, 6, 8, 4, 5, 2, 1, 9, 0, 4, 6, 7, 4, 2, 4, 6, 8, 4, 5, 2, 1, 9, 0, 4, 6, 7, 4, 3, 2, 1, 9, 10, 3, 7, 9, 6]\n"
     ]
    }
   ],
   "source": [
    "import json\n",
    "print(json.dumps(numbers))"
   ]
  },
  {
   "cell_type": "markdown",
   "id": "d3e678e6",
   "metadata": {},
   "source": [
    "## Question2"
   ]
  },
  {
   "cell_type": "code",
   "execution_count": 253,
   "id": "ccb415c2",
   "metadata": {},
   "outputs": [
    {
     "name": "stdout",
     "output_type": "stream",
     "text": [
      "   Order Date             Order ID      Payment Shipment Date  Subtotal  Shipping Charge  Tax Before Promotions  Total Promotions  Tax Charged  Total Charged\n",
      "0    01/15/23  111-9627084-4086646  Visa - 9488      01/17/23     12.99              0.0                   0.78              0.00         0.78          13.77\n",
      "1    01/15/23  111-9627084-4086646  Visa - 9488      01/17/23     11.00              0.0                   0.53              2.20         0.53           9.33\n",
      "2    01/16/23  111-3558462-1477805  Visa - 9488      01/17/23     22.00              0.0                   1.32              0.00         1.32          23.32\n",
      "3    01/16/23  111-4001721-7508268  Visa - 9488      01/17/23     15.00              0.0                   0.90              0.00         0.90          15.90\n",
      "4    01/18/23  111-5472347-5013067  Visa - 9488      01/18/23     50.00              0.0                   3.00              0.00         3.00          53.00\n",
      "5    01/18/23  111-0126811-0001876  Visa - 9488      01/19/23     18.95              0.0                   1.14              0.00         1.14          20.09\n",
      "6    01/18/23  111-8274179-5767440  Visa - 9488      01/19/23     11.99              0.0                   0.72              0.00         0.72          12.71\n",
      "7    01/18/23  111-8274179-5767440  Visa - 9488      01/19/23      9.99              0.0                   0.60              0.00         0.60          10.59\n",
      "8    01/22/23  111-3101767-6167441  Visa - 9488      01/23/23     11.00              0.0                   0.66              0.00         0.66          11.66\n",
      "9    01/22/23  111-3101767-6167441  Visa - 9488      01/28/23     21.00              0.0                   1.26              0.00         1.26          22.26\n",
      "10   01/22/23  111-2164577-2058645  Visa - 3815      01/23/23     18.95              0.0                   1.14              0.00         1.14          20.09\n",
      "11   01/22/23  111-2164577-2058645  Visa - 3815      01/23/23      5.99              0.0                   0.36              0.00         0.36           6.35\n",
      "12   01/23/23  111-1255277-5637030  Visa - 9488      01/23/23     38.89              0.0                   2.33              0.00         2.33          41.22\n",
      "13   01/25/23  111-1986037-4478640  Visa - 9488      01/25/23     18.95              0.0                   1.14              0.00         1.14          20.09\n",
      "14   01/30/23  111-6163123-7441853  Visa - 3815      01/31/23     22.78              0.0                   1.37              0.00         1.37          24.15\n",
      "15   01/30/23  111-8152453-9734668  Visa - 3815      01/30/23     13.99              0.0                   0.84              0.00         0.84          14.83\n",
      "16   01/30/23  112-0000000-0000008  Visa - 3815      01/30/23     44.99              0.0                   0.00              0.00         0.00          44.99\n",
      "17   02/13/23  111-1442824-0830662  Visa - 9488      02/14/23     18.95              0.0                   1.14              0.00         1.14          20.09\n",
      "18   02/13/23  111-8012226-5221005  Visa - 3815      02/14/23      7.89              0.0                   0.43              0.79         0.43           7.53\n",
      "19   02/13/23  111-8012226-5221005  Visa - 3815      02/14/23     85.99              0.0                   4.95              3.50         4.95          87.44\n",
      "20   02/15/23  111-0276858-2134613  Visa - 3815      02/16/23     42.95              0.0                   2.58              0.00         2.58          45.53\n",
      "21   02/15/23  111-4043306-5335404  Visa - 9488      02/15/23     22.99              0.0                   1.31              1.15         1.31          23.15\n",
      "22   02/16/23  111-4687704-4588234  Visa - 9488      02/17/23     39.99              0.0                   2.04              6.00         2.04          36.03\n",
      "23   02/17/23  111-6827407-8302628  Visa - 9488      02/18/23     39.99              0.0                   1.92              8.00         1.92          33.91\n",
      "24   02/20/23  111-7840316-0732223  Visa - 9488      02/21/23     16.99              0.0                   1.02              0.00         1.02          18.01\n",
      "25   02/20/23  111-7840316-0732223  Visa - 9488      02/21/23     13.95              0.0                   0.84              0.00         0.84          14.79\n",
      "26   02/20/23  112-0000000-0000009  Visa - 3815      02/21/23     30.15              0.0                   1.81              0.00         1.81          31.96\n",
      "27   02/28/23  111-8075339-6361025  Visa - 9488      02/27/23     10.99              0.0                   0.66              0.00         0.66          11.65\n"
     ]
    }
   ],
   "source": [
    "import pandas as pd\n",
    "df= pd.read_csv('data3.csv')\n",
    "print(df.to_string())"
   ]
  },
  {
   "cell_type": "markdown",
   "id": "01c1279c",
   "metadata": {},
   "source": [
    "### Total expenses"
   ]
  },
  {
   "cell_type": "code",
   "execution_count": 392,
   "id": "ea501697",
   "metadata": {},
   "outputs": [
    {
     "name": "stdout",
     "output_type": "stream",
     "text": [
      "The total amout I spent on Amazon from 01/01/23 to 02/28/23 is $694.4399999999999.\n"
     ]
    }
   ],
   "source": [
    "import pandas as pd\n",
    "Total_amount=df[\"Total Charged\"].sum()\n",
    "print(f'The total amout I spent on Amazon from 01/01/23 to 02/28/23 is ${Total_amount}.')"
   ]
  },
  {
   "cell_type": "markdown",
   "id": "f6b6d33f",
   "metadata": {},
   "source": [
    "### Monthly Summary"
   ]
  },
  {
   "cell_type": "code",
   "execution_count": 379,
   "id": "d228d1ef",
   "metadata": {},
   "outputs": [
    {
     "name": "stdout",
     "output_type": "stream",
     "text": [
      "The total amount I spent in January is $364.35.\n"
     ]
    }
   ],
   "source": [
    "dfJan=df.loc[\"0\":\"16\", :]\n",
    "Jan_Total=dfJan[\"Total Charged\"].sum()\n",
    "print(f'The total amount I spent in January is ${Jan_Total}.')"
   ]
  },
  {
   "cell_type": "code",
   "execution_count": 380,
   "id": "eb23639b",
   "metadata": {},
   "outputs": [
    {
     "name": "stdout",
     "output_type": "stream",
     "text": [
      "The total amount I spent in February is $330.09.\n"
     ]
    }
   ],
   "source": [
    "dfFeb=df.loc[\"17\":\"27\", :]\n",
    "Feb_Total=dfFeb[\"Total Charged\"].sum()\n",
    "print(f'The total amount I spent in February is ${Feb_Total}.')"
   ]
  },
  {
   "cell_type": "markdown",
   "id": "e10339fa",
   "metadata": {},
   "source": [
    "### Average, median, max, min, and standrad deviation"
   ]
  },
  {
   "cell_type": "code",
   "execution_count": 382,
   "id": "6c2f7a40",
   "metadata": {},
   "outputs": [
    {
     "data": {
      "text/plain": [
       "87.44"
      ]
     },
     "execution_count": 382,
     "metadata": {},
     "output_type": "execute_result"
    }
   ],
   "source": [
    "Max=df[\"Total Charged\"].max()\n",
    "Max"
   ]
  },
  {
   "cell_type": "code",
   "execution_count": 383,
   "id": "47b26c5d",
   "metadata": {},
   "outputs": [
    {
     "data": {
      "text/plain": [
       "6.35"
      ]
     },
     "execution_count": 383,
     "metadata": {},
     "output_type": "execute_result"
    }
   ],
   "source": [
    "Min=df[\"Total Charged\"].min()\n",
    "Min"
   ]
  },
  {
   "cell_type": "code",
   "execution_count": 384,
   "id": "839af661",
   "metadata": {},
   "outputs": [
    {
     "data": {
      "text/plain": [
       "20.09"
      ]
     },
     "execution_count": 384,
     "metadata": {},
     "output_type": "execute_result"
    }
   ],
   "source": [
    "Median=df[\"Total Charged\"].median()\n",
    "Median"
   ]
  },
  {
   "cell_type": "code",
   "execution_count": 387,
   "id": "b7359e99",
   "metadata": {},
   "outputs": [
    {
     "data": {
      "text/plain": [
       "24.801428571428563"
      ]
     },
     "execution_count": 387,
     "metadata": {},
     "output_type": "execute_result"
    }
   ],
   "source": [
    "Mean=df[\"Total Charged\"].mean()\n",
    "Mean"
   ]
  },
  {
   "cell_type": "code",
   "execution_count": 385,
   "id": "b006ce0a",
   "metadata": {},
   "outputs": [
    {
     "data": {
      "text/plain": [
       "17.432531894534662"
      ]
     },
     "execution_count": 385,
     "metadata": {},
     "output_type": "execute_result"
    }
   ],
   "source": [
    "Stand_dev=df[\"Total Charged\"].std()\n",
    "Stand_dev"
   ]
  },
  {
   "cell_type": "code",
   "execution_count": 230,
   "id": "bfc37293",
   "metadata": {},
   "outputs": [
    {
     "data": {
      "text/html": [
       "<div>\n",
       "<style scoped>\n",
       "    .dataframe tbody tr th:only-of-type {\n",
       "        vertical-align: middle;\n",
       "    }\n",
       "\n",
       "    .dataframe tbody tr th {\n",
       "        vertical-align: top;\n",
       "    }\n",
       "\n",
       "    .dataframe thead th {\n",
       "        text-align: right;\n",
       "    }\n",
       "</style>\n",
       "<table border=\"1\" class=\"dataframe\">\n",
       "  <thead>\n",
       "    <tr style=\"text-align: right;\">\n",
       "      <th></th>\n",
       "      <th>Subtotal</th>\n",
       "      <th>Shipping Charge</th>\n",
       "      <th>Tax Before Promotions</th>\n",
       "      <th>Total Promotions</th>\n",
       "      <th>Tax Charged</th>\n",
       "      <th>Total Charged</th>\n",
       "    </tr>\n",
       "  </thead>\n",
       "  <tbody>\n",
       "    <tr>\n",
       "      <th>count</th>\n",
       "      <td>28.000000</td>\n",
       "      <td>28.0</td>\n",
       "      <td>28.000000</td>\n",
       "      <td>28.000000</td>\n",
       "      <td>28.000000</td>\n",
       "      <td>28.000000</td>\n",
       "    </tr>\n",
       "    <tr>\n",
       "      <th>mean</th>\n",
       "      <td>24.260357</td>\n",
       "      <td>0.0</td>\n",
       "      <td>1.313929</td>\n",
       "      <td>0.772857</td>\n",
       "      <td>1.313929</td>\n",
       "      <td>24.801429</td>\n",
       "    </tr>\n",
       "    <tr>\n",
       "      <th>std</th>\n",
       "      <td>17.308950</td>\n",
       "      <td>0.0</td>\n",
       "      <td>0.994594</td>\n",
       "      <td>1.946621</td>\n",
       "      <td>0.994594</td>\n",
       "      <td>17.432532</td>\n",
       "    </tr>\n",
       "    <tr>\n",
       "      <th>min</th>\n",
       "      <td>5.990000</td>\n",
       "      <td>0.0</td>\n",
       "      <td>0.000000</td>\n",
       "      <td>0.000000</td>\n",
       "      <td>0.000000</td>\n",
       "      <td>6.350000</td>\n",
       "    </tr>\n",
       "    <tr>\n",
       "      <th>25%</th>\n",
       "      <td>12.740000</td>\n",
       "      <td>0.0</td>\n",
       "      <td>0.705000</td>\n",
       "      <td>0.000000</td>\n",
       "      <td>0.705000</td>\n",
       "      <td>13.505000</td>\n",
       "    </tr>\n",
       "    <tr>\n",
       "      <th>50%</th>\n",
       "      <td>18.950000</td>\n",
       "      <td>0.0</td>\n",
       "      <td>1.140000</td>\n",
       "      <td>0.000000</td>\n",
       "      <td>1.140000</td>\n",
       "      <td>20.090000</td>\n",
       "    </tr>\n",
       "    <tr>\n",
       "      <th>75%</th>\n",
       "      <td>32.335000</td>\n",
       "      <td>0.0</td>\n",
       "      <td>1.480000</td>\n",
       "      <td>0.000000</td>\n",
       "      <td>1.480000</td>\n",
       "      <td>32.447500</td>\n",
       "    </tr>\n",
       "    <tr>\n",
       "      <th>max</th>\n",
       "      <td>85.990000</td>\n",
       "      <td>0.0</td>\n",
       "      <td>4.950000</td>\n",
       "      <td>8.000000</td>\n",
       "      <td>4.950000</td>\n",
       "      <td>87.440000</td>\n",
       "    </tr>\n",
       "  </tbody>\n",
       "</table>\n",
       "</div>"
      ],
      "text/plain": [
       "        Subtotal  Shipping Charge  Tax Before Promotions  Total Promotions  \\\n",
       "count  28.000000             28.0              28.000000         28.000000   \n",
       "mean   24.260357              0.0               1.313929          0.772857   \n",
       "std    17.308950              0.0               0.994594          1.946621   \n",
       "min     5.990000              0.0               0.000000          0.000000   \n",
       "25%    12.740000              0.0               0.705000          0.000000   \n",
       "50%    18.950000              0.0               1.140000          0.000000   \n",
       "75%    32.335000              0.0               1.480000          0.000000   \n",
       "max    85.990000              0.0               4.950000          8.000000   \n",
       "\n",
       "       Tax Charged  Total Charged  \n",
       "count    28.000000      28.000000  \n",
       "mean      1.313929      24.801429  \n",
       "std       0.994594      17.432532  \n",
       "min       0.000000       6.350000  \n",
       "25%       0.705000      13.505000  \n",
       "50%       1.140000      20.090000  \n",
       "75%       1.480000      32.447500  \n",
       "max       4.950000      87.440000  "
      ]
     },
     "execution_count": 230,
     "metadata": {},
     "output_type": "execute_result"
    }
   ],
   "source": [
    "Description=df.describe()\n",
    "Description"
   ]
  },
  {
   "cell_type": "markdown",
   "id": "e3daab65",
   "metadata": {},
   "source": [
    "### How much I spent n each credit card"
   ]
  },
  {
   "cell_type": "code",
   "execution_count": 400,
   "id": "1f57526f",
   "metadata": {
    "scrolled": true
   },
   "outputs": [
    {
     "data": {
      "text/html": [
       "<div>\n",
       "<style scoped>\n",
       "    .dataframe tbody tr th:only-of-type {\n",
       "        vertical-align: middle;\n",
       "    }\n",
       "\n",
       "    .dataframe tbody tr th {\n",
       "        vertical-align: top;\n",
       "    }\n",
       "\n",
       "    .dataframe thead th {\n",
       "        text-align: right;\n",
       "    }\n",
       "</style>\n",
       "<table border=\"1\" class=\"dataframe\">\n",
       "  <thead>\n",
       "    <tr style=\"text-align: right;\">\n",
       "      <th></th>\n",
       "      <th>Subtotal</th>\n",
       "      <th>Shipping Charge</th>\n",
       "      <th>Tax Before Promotions</th>\n",
       "      <th>Total Promotions</th>\n",
       "      <th>Tax Charged</th>\n",
       "      <th>Total Charged</th>\n",
       "    </tr>\n",
       "    <tr>\n",
       "      <th>Payment</th>\n",
       "      <th></th>\n",
       "      <th></th>\n",
       "      <th></th>\n",
       "      <th></th>\n",
       "      <th></th>\n",
       "      <th></th>\n",
       "    </tr>\n",
       "  </thead>\n",
       "  <tbody>\n",
       "    <tr>\n",
       "      <th>Visa - 3815</th>\n",
       "      <td>273.68</td>\n",
       "      <td>0.0</td>\n",
       "      <td>13.48</td>\n",
       "      <td>4.29</td>\n",
       "      <td>13.48</td>\n",
       "      <td>282.87</td>\n",
       "    </tr>\n",
       "    <tr>\n",
       "      <th>Visa - 9488</th>\n",
       "      <td>405.61</td>\n",
       "      <td>0.0</td>\n",
       "      <td>23.31</td>\n",
       "      <td>17.35</td>\n",
       "      <td>23.31</td>\n",
       "      <td>411.57</td>\n",
       "    </tr>\n",
       "  </tbody>\n",
       "</table>\n",
       "</div>"
      ],
      "text/plain": [
       "             Subtotal  Shipping Charge  Tax Before Promotions  \\\n",
       "Payment                                                         \n",
       "Visa - 3815    273.68              0.0                  13.48   \n",
       "Visa - 9488    405.61              0.0                  23.31   \n",
       "\n",
       "             Total Promotions  Tax Charged  Total Charged  \n",
       "Payment                                                    \n",
       "Visa - 3815              4.29        13.48         282.87  \n",
       "Visa - 9488             17.35        23.31         411.57  "
      ]
     },
     "execution_count": 400,
     "metadata": {},
     "output_type": "execute_result"
    }
   ],
   "source": [
    "df.groupby(\"Payment\").sum()"
   ]
  },
  {
   "cell_type": "markdown",
   "id": "03701f0c",
   "metadata": {},
   "source": [
    "# Charts"
   ]
  },
  {
   "cell_type": "markdown",
   "id": "b3dc443e",
   "metadata": {},
   "source": [
    "### Preliminary"
   ]
  },
  {
   "cell_type": "code",
   "execution_count": 270,
   "id": "1a0368d5",
   "metadata": {},
   "outputs": [
    {
     "name": "stdout",
     "output_type": "stream",
     "text": [
      "320.36\n"
     ]
    }
   ],
   "source": [
    "total30=0\n",
    "for i in df[\"Total Charged\"]:\n",
    "    if i<30:\n",
    "        total30+=i\n",
    "print(total30)"
   ]
  },
  {
   "cell_type": "code",
   "execution_count": 287,
   "id": "a3164869",
   "metadata": {},
   "outputs": [
    {
     "name": "stdout",
     "output_type": "stream",
     "text": [
      "286.64\n"
     ]
    }
   ],
   "source": [
    "total60=0\n",
    "for i in df[\"Total Charged\"]:\n",
    "    if 30<i<60:\n",
    "        total60+=i\n",
    "print(total60)"
   ]
  },
  {
   "cell_type": "code",
   "execution_count": 286,
   "id": "b3e2d1a1",
   "metadata": {},
   "outputs": [
    {
     "name": "stdout",
     "output_type": "stream",
     "text": [
      "87.44\n"
     ]
    }
   ],
   "source": [
    "total90=0\n",
    "for i in df[\"Total Charged\"]:\n",
    "    if 60<i:\n",
    "        total90+=i\n",
    "print(total90)"
   ]
  },
  {
   "cell_type": "code",
   "execution_count": 285,
   "id": "d87ac0d2",
   "metadata": {},
   "outputs": [
    {
     "name": "stdout",
     "output_type": "stream",
     "text": [
      "$0 to $30     320.36\n",
      "$30 to $60    286.64\n",
      "$60 to $90     87.44\n",
      "dtype: float64\n"
     ]
    }
   ],
   "source": [
    "import pandas as pd\n",
    "Price_range={\"$0 to $30\":total30, \"$30 to $60\":total60,\"$60 to $90\":total90}\n",
    "dfpr=pd.Series(Price_range)\n",
    "print(dfpr)"
   ]
  },
  {
   "cell_type": "markdown",
   "id": "d750d3f2",
   "metadata": {},
   "source": [
    "### Pie Chart"
   ]
  },
  {
   "cell_type": "code",
   "execution_count": 304,
   "id": "920b2534",
   "metadata": {},
   "outputs": [
    {
     "data": {
      "text/plain": [
       "([<matplotlib.patches.Wedge at 0x7f90106c5fa0>,\n",
       "  <matplotlib.patches.Wedge at 0x7f90108814c0>,\n",
       "  <matplotlib.patches.Wedge at 0x7f90108819a0>],\n",
       " [Text(0.13333521939371584, 1.0918890599640743, '$0-30'),\n",
       "  Text(-0.5437826697047307, -0.9561905710311078, '$30-60'),\n",
       "  Text(1.0150539849910967, -0.4238695643163054, '$60-90')])"
      ]
     },
     "execution_count": 304,
     "metadata": {},
     "output_type": "execute_result"
    },
    {
     "data": {
      "image/png": "[encoded data removed]",
      "text/plain": [
       "<Figure size 640x480 with 1 Axes>"
      ]
     },
     "metadata": {},
     "output_type": "display_data"
    }
   ],
   "source": [
    "import matplotlib.pyplot as plt\n",
    "import numpy as np\n",
    "\n",
    "y=np.array([total30,total60,total90])\n",
    "mylabels=[\"$0-30\", \"$30-60\",\"$60-90\"]\n",
    "mycolors=['deepskyblue', 'plum', 'limegreen']\n",
    "\n",
    "\n",
    "plt.pie(y,labels=mylabels, colors=mycolors)"
   ]
  },
  {
   "cell_type": "markdown",
   "id": "d20f0e19",
   "metadata": {},
   "source": [
    "### Bar chrt"
   ]
  },
  {
   "cell_type": "code",
   "execution_count": 308,
   "id": "5c34302f",
   "metadata": {},
   "outputs": [
    {
     "data": {
      "image/png": "[encoded data removed]",
      "text/plain": [
       "<Figure size 640x480 with 1 Axes>"
      ]
     },
     "metadata": {},
     "output_type": "display_data"
    }
   ],
   "source": [
    "x=np.array([\"Janunary\", \"February\"])\n",
    "y=np.array([Jan_Total, Feb_Total])\n",
    "\n",
    "plt.bar(x,y, width=0.5, color='dodgerblue')\n",
    "plt.show()"
   ]
  },
  {
   "cell_type": "code",
   "execution_count": 325,
   "id": "bd968b9b",
   "metadata": {},
   "outputs": [
    {
     "name": "stdout",
     "output_type": "stream",
     "text": [
      "[13.77, 9.33, 23.32, 15.9, 53.0, 20.09, 12.71, 10.59, 11.66, 22.26, 20.09, 6.35, 41.22, 20.09, 24.15, 14.83, 44.99]\n"
     ]
    }
   ],
   "source": [
    "list_J=[]\n",
    "for i in dfJan[\"Total Charged\"]:\n",
    "    list_J.append(i)\n",
    "print(list_J)"
   ]
  },
  {
   "cell_type": "code",
   "execution_count": 334,
   "id": "aa70c180",
   "metadata": {},
   "outputs": [
    {
     "name": "stdout",
     "output_type": "stream",
     "text": [
      "[20.09, 7.53, 87.44, 45.53, 23.15, 36.03, 33.91, 18.01, 14.79, 31.96, 11.65]\n"
     ]
    }
   ],
   "source": [
    "list_F=[]\n",
    "for i in dfFeb[\"Total Charged\"]:\n",
    "    list_F.append(i)\n",
    "print(list_F)"
   ]
  },
  {
   "cell_type": "markdown",
   "id": "45f91d7d",
   "metadata": {},
   "source": [
    "### Line comparisons"
   ]
  },
  {
   "cell_type": "code",
   "execution_count": 378,
   "id": "5e81ecaa",
   "metadata": {},
   "outputs": [
    {
     "data": {
      "image/png": "[encoded data removed]",
      "text/plain": [
       "<Figure size 640x480 with 2 Axes>"
      ]
     },
     "metadata": {},
     "output_type": "display_data"
    }
   ],
   "source": [
    "import matplotlib.pyplot as plt\n",
    "import numpy as np\n",
    "\n",
    "y=np.array(list_J)\n",
    "plt.subplot(2,1,1)\n",
    "plt.title(\"January\")\n",
    "plt.plot(y)\n",
    "\n",
    "\n",
    "y=np.array(list_F)\n",
    "plt.subplot(2,1,2)\n",
    "plt.title(\"February\")\n",
    "plt.plot(y)\n",
    "\n",
    "\n",
    "plt.subplots_adjust(hspace=0.35)\n",
    "plt.show()\n"
   ]
  },
  {
   "cell_type": "code",
   "execution_count": 404,
   "id": "63a8f1ea",
   "metadata": {},
   "outputs": [
    {
     "data": {
      "text/html": [
       "<div>\n",
       "<style scoped>\n",
       "    .dataframe tbody tr th:only-of-type {\n",
       "        vertical-align: middle;\n",
       "    }\n",
       "\n",
       "    .dataframe tbody tr th {\n",
       "        vertical-align: top;\n",
       "    }\n",
       "\n",
       "    .dataframe thead th {\n",
       "        text-align: right;\n",
       "    }\n",
       "</style>\n",
       "<table border=\"1\" class=\"dataframe\">\n",
       "  <thead>\n",
       "    <tr style=\"text-align: right;\">\n",
       "      <th></th>\n",
       "      <th>Subtotal</th>\n",
       "      <th>Shipping Charge</th>\n",
       "      <th>Tax Before Promotions</th>\n",
       "      <th>Total Promotions</th>\n",
       "      <th>Tax Charged</th>\n",
       "      <th>Total Charged</th>\n",
       "    </tr>\n",
       "    <tr>\n",
       "      <th>Order Date</th>\n",
       "      <th></th>\n",
       "      <th></th>\n",
       "      <th></th>\n",
       "      <th></th>\n",
       "      <th></th>\n",
       "      <th></th>\n",
       "    </tr>\n",
       "  </thead>\n",
       "  <tbody>\n",
       "    <tr>\n",
       "      <th>01/15/23</th>\n",
       "      <td>23.99</td>\n",
       "      <td>0.0</td>\n",
       "      <td>1.31</td>\n",
       "      <td>2.2</td>\n",
       "      <td>1.31</td>\n",
       "      <td>23.10</td>\n",
       "    </tr>\n",
       "    <tr>\n",
       "      <th>01/16/23</th>\n",
       "      <td>37.00</td>\n",
       "      <td>0.0</td>\n",
       "      <td>2.22</td>\n",
       "      <td>0.0</td>\n",
       "      <td>2.22</td>\n",
       "      <td>39.22</td>\n",
       "    </tr>\n",
       "    <tr>\n",
       "      <th>01/18/23</th>\n",
       "      <td>90.93</td>\n",
       "      <td>0.0</td>\n",
       "      <td>5.46</td>\n",
       "      <td>0.0</td>\n",
       "      <td>5.46</td>\n",
       "      <td>96.39</td>\n",
       "    </tr>\n",
       "    <tr>\n",
       "      <th>01/22/23</th>\n",
       "      <td>56.94</td>\n",
       "      <td>0.0</td>\n",
       "      <td>3.42</td>\n",
       "      <td>0.0</td>\n",
       "      <td>3.42</td>\n",
       "      <td>60.36</td>\n",
       "    </tr>\n",
       "    <tr>\n",
       "      <th>01/23/23</th>\n",
       "      <td>38.89</td>\n",
       "      <td>0.0</td>\n",
       "      <td>2.33</td>\n",
       "      <td>0.0</td>\n",
       "      <td>2.33</td>\n",
       "      <td>41.22</td>\n",
       "    </tr>\n",
       "    <tr>\n",
       "      <th>01/25/23</th>\n",
       "      <td>18.95</td>\n",
       "      <td>0.0</td>\n",
       "      <td>1.14</td>\n",
       "      <td>0.0</td>\n",
       "      <td>1.14</td>\n",
       "      <td>20.09</td>\n",
       "    </tr>\n",
       "    <tr>\n",
       "      <th>01/30/23</th>\n",
       "      <td>81.76</td>\n",
       "      <td>0.0</td>\n",
       "      <td>2.21</td>\n",
       "      <td>0.0</td>\n",
       "      <td>2.21</td>\n",
       "      <td>83.97</td>\n",
       "    </tr>\n",
       "  </tbody>\n",
       "</table>\n",
       "</div>"
      ],
      "text/plain": [
       "            Subtotal  Shipping Charge  Tax Before Promotions  \\\n",
       "Order Date                                                     \n",
       "01/15/23       23.99              0.0                   1.31   \n",
       "01/16/23       37.00              0.0                   2.22   \n",
       "01/18/23       90.93              0.0                   5.46   \n",
       "01/22/23       56.94              0.0                   3.42   \n",
       "01/23/23       38.89              0.0                   2.33   \n",
       "01/25/23       18.95              0.0                   1.14   \n",
       "01/30/23       81.76              0.0                   2.21   \n",
       "\n",
       "            Total Promotions  Tax Charged  Total Charged  \n",
       "Order Date                                                \n",
       "01/15/23                 2.2         1.31          23.10  \n",
       "01/16/23                 0.0         2.22          39.22  \n",
       "01/18/23                 0.0         5.46          96.39  \n",
       "01/22/23                 0.0         3.42          60.36  \n",
       "01/23/23                 0.0         2.33          41.22  \n",
       "01/25/23                 0.0         1.14          20.09  \n",
       "01/30/23                 0.0         2.21          83.97  "
      ]
     },
     "execution_count": 404,
     "metadata": {},
     "output_type": "execute_result"
    }
   ],
   "source": [
    "dfJan.groupby(\"Order Date\").sum()`"
   ]
  },
  {
   "cell_type": "code",
   "execution_count": 406,
   "id": "f2203246",
   "metadata": {},
   "outputs": [
    {
     "data": {
      "text/html": [
       "<div>\n",
       "<style scoped>\n",
       "    .dataframe tbody tr th:only-of-type {\n",
       "        vertical-align: middle;\n",
       "    }\n",
       "\n",
       "    .dataframe tbody tr th {\n",
       "        vertical-align: top;\n",
       "    }\n",
       "\n",
       "    .dataframe thead th {\n",
       "        text-align: right;\n",
       "    }\n",
       "</style>\n",
       "<table border=\"1\" class=\"dataframe\">\n",
       "  <thead>\n",
       "    <tr style=\"text-align: right;\">\n",
       "      <th></th>\n",
       "      <th>Subtotal</th>\n",
       "      <th>Shipping Charge</th>\n",
       "      <th>Tax Before Promotions</th>\n",
       "      <th>Total Promotions</th>\n",
       "      <th>Tax Charged</th>\n",
       "      <th>Total Charged</th>\n",
       "    </tr>\n",
       "    <tr>\n",
       "      <th>Order Date</th>\n",
       "      <th></th>\n",
       "      <th></th>\n",
       "      <th></th>\n",
       "      <th></th>\n",
       "      <th></th>\n",
       "      <th></th>\n",
       "    </tr>\n",
       "  </thead>\n",
       "  <tbody>\n",
       "    <tr>\n",
       "      <th>02/13/23</th>\n",
       "      <td>112.83</td>\n",
       "      <td>0.0</td>\n",
       "      <td>6.52</td>\n",
       "      <td>4.29</td>\n",
       "      <td>6.52</td>\n",
       "      <td>115.06</td>\n",
       "    </tr>\n",
       "    <tr>\n",
       "      <th>02/15/23</th>\n",
       "      <td>65.94</td>\n",
       "      <td>0.0</td>\n",
       "      <td>3.89</td>\n",
       "      <td>1.15</td>\n",
       "      <td>3.89</td>\n",
       "      <td>68.68</td>\n",
       "    </tr>\n",
       "    <tr>\n",
       "      <th>02/16/23</th>\n",
       "      <td>39.99</td>\n",
       "      <td>0.0</td>\n",
       "      <td>2.04</td>\n",
       "      <td>6.00</td>\n",
       "      <td>2.04</td>\n",
       "      <td>36.03</td>\n",
       "    </tr>\n",
       "    <tr>\n",
       "      <th>02/17/23</th>\n",
       "      <td>39.99</td>\n",
       "      <td>0.0</td>\n",
       "      <td>1.92</td>\n",
       "      <td>8.00</td>\n",
       "      <td>1.92</td>\n",
       "      <td>33.91</td>\n",
       "    </tr>\n",
       "    <tr>\n",
       "      <th>02/20/23</th>\n",
       "      <td>61.09</td>\n",
       "      <td>0.0</td>\n",
       "      <td>3.67</td>\n",
       "      <td>0.00</td>\n",
       "      <td>3.67</td>\n",
       "      <td>64.76</td>\n",
       "    </tr>\n",
       "    <tr>\n",
       "      <th>02/28/23</th>\n",
       "      <td>10.99</td>\n",
       "      <td>0.0</td>\n",
       "      <td>0.66</td>\n",
       "      <td>0.00</td>\n",
       "      <td>0.66</td>\n",
       "      <td>11.65</td>\n",
       "    </tr>\n",
       "  </tbody>\n",
       "</table>\n",
       "</div>"
      ],
      "text/plain": [
       "            Subtotal  Shipping Charge  Tax Before Promotions  \\\n",
       "Order Date                                                     \n",
       "02/13/23      112.83              0.0                   6.52   \n",
       "02/15/23       65.94              0.0                   3.89   \n",
       "02/16/23       39.99              0.0                   2.04   \n",
       "02/17/23       39.99              0.0                   1.92   \n",
       "02/20/23       61.09              0.0                   3.67   \n",
       "02/28/23       10.99              0.0                   0.66   \n",
       "\n",
       "            Total Promotions  Tax Charged  Total Charged  \n",
       "Order Date                                                \n",
       "02/13/23                4.29         6.52         115.06  \n",
       "02/15/23                1.15         3.89          68.68  \n",
       "02/16/23                6.00         2.04          36.03  \n",
       "02/17/23                8.00         1.92          33.91  \n",
       "02/20/23                0.00         3.67          64.76  \n",
       "02/28/23                0.00         0.66          11.65  "
      ]
     },
     "execution_count": 406,
     "metadata": {},
     "output_type": "execute_result"
    }
   ],
   "source": [
    "dfFeb.groupby(\"Order Date\").sum()"
   ]
  },
  {
   "cell_type": "raw",
   "id": "91e9dfb3",
   "metadata": {},
   "source": []
  }
 ],
 "metadata": {
  "kernelspec": {
   "display_name": "Python 3 (ipykernel)",
   "language": "python",
   "name": "python3"
  },
  "language_info": {
   "codemirror_mode": {
    "name": "ipython",
    "version": 3
   },
   "file_extension": ".py",
   "mimetype": "text/x-python",
   "name": "python",
   "nbconvert_exporter": "python",
   "pygments_lexer": "ipython3",
   "version": "3.9.13"
  }
 },
 "nbformat": 4,
 "nbformat_minor": 5
}
