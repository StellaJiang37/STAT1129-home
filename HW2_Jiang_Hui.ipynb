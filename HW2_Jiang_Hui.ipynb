{
 "cells": [
  {
   "cell_type": "markdown",
   "id": "0f5bb8e1",
   "metadata": {},
   "source": [
    "### 1."
   ]
  },
  {
   "cell_type": "code",
   "execution_count": 7,
   "id": "32b3cfc1",
   "metadata": {},
   "outputs": [
    {
     "name": "stdout",
     "output_type": "stream",
     "text": [
      "0\n",
      "1\n",
      "2\n",
      "3\n",
      "4\n"
     ]
    }
   ],
   "source": [
    "n=0\n",
    "while n <10:\n",
    "    print(n)\n",
    "    n+=1\n",
    "    if n==5:\n",
    "        break\n",
    "\n",
    "    \n",
    "    \n",
    "    "
   ]
  },
  {
   "cell_type": "markdown",
   "id": "c64f6187",
   "metadata": {},
   "source": [
    "### 2."
   ]
  },
  {
   "cell_type": "code",
   "execution_count": 9,
   "id": "5e246b83",
   "metadata": {},
   "outputs": [
    {
     "name": "stdout",
     "output_type": "stream",
     "text": [
      "0\n",
      "1\n",
      "2\n",
      "3\n",
      "4\n",
      "5 is not less than 5\n"
     ]
    }
   ],
   "source": [
    "n=0\n",
    "while n<5:\n",
    "    print(n)\n",
    "    n+=1\n",
    "print(n,'is not less than 5')\n",
    "    "
   ]
  },
  {
   "cell_type": "markdown",
   "id": "9103bbc3",
   "metadata": {},
   "source": [
    "### 3."
   ]
  },
  {
   "cell_type": "code",
   "execution_count": 35,
   "id": "e112df94",
   "metadata": {},
   "outputs": [
    {
     "name": "stdout",
     "output_type": "stream",
     "text": [
      "I like banana\n",
      "I like orange\n",
      "apple is really a fruit? \n"
     ]
    }
   ],
   "source": [
    "fruit=['banana', 'orange','apple']\n",
    "for i in fruit:\n",
    "    if i == 'apple':\n",
    "        print ('apple is really a fruit? ')\n",
    "        break\n",
    "    else:\n",
    "        print('I like', i)"
   ]
  },
  {
   "cell_type": "markdown",
   "id": "25daa74d",
   "metadata": {},
   "source": [
    "### 4."
   ]
  },
  {
   "cell_type": "code",
   "execution_count": 33,
   "id": "1e7ba568",
   "metadata": {},
   "outputs": [
    {
     "name": "stdout",
     "output_type": "stream",
     "text": [
      "465\n"
     ]
    }
   ],
   "source": [
    "n=1\n",
    "total=0\n",
    "while n <=30:\n",
    "    total+=n\n",
    "    n+=1\n",
    "print(total)"
   ]
  },
  {
   "cell_type": "markdown",
   "id": "af8f189f",
   "metadata": {},
   "source": [
    "### 5."
   ]
  },
  {
   "cell_type": "code",
   "execution_count": 22,
   "id": "d17e1926",
   "metadata": {},
   "outputs": [
    {
     "name": "stdout",
     "output_type": "stream",
     "text": [
      "B\n"
     ]
    }
   ],
   "source": [
    "grade=86\n",
    "if grade >=90:\n",
    "    print('A')\n",
    "elif grade>=80:\n",
    "    print('B')\n",
    "elif grade>=70:\n",
    "    print('C')\n",
    "elif grade>=60:\n",
    "    print('D')\n",
    "else:\n",
    "    print('F')"
   ]
  },
  {
   "cell_type": "markdown",
   "id": "54b855e7",
   "metadata": {},
   "source": [
    "### 6."
   ]
  },
  {
   "cell_type": "markdown",
   "id": "fabf6acd",
   "metadata": {},
   "source": [
    "#### 6.1"
   ]
  },
  {
   "cell_type": "code",
   "execution_count": 39,
   "id": "d48d3558",
   "metadata": {},
   "outputs": [],
   "source": [
    "marks={'Andy':88, 'Amy':66, 'James':90, 'Jules':55, 'Arthur':77}"
   ]
  },
  {
   "cell_type": "code",
   "execution_count": 40,
   "id": "105c3e77",
   "metadata": {},
   "outputs": [
    {
     "name": "stdout",
     "output_type": "stream",
     "text": [
      "Andy 88\n",
      "Amy 66\n",
      "James 90\n",
      "Jules 55\n",
      "Arthur 77\n"
     ]
    }
   ],
   "source": [
    "for i in marks:\n",
    "    print(i, marks[i])"
   ]
  },
  {
   "cell_type": "markdown",
   "id": "b59730c3",
   "metadata": {},
   "source": [
    "#### 6.2"
   ]
  },
  {
   "cell_type": "code",
   "execution_count": 44,
   "id": "78685de5",
   "metadata": {},
   "outputs": [
    {
     "name": "stdout",
     "output_type": "stream",
     "text": [
      "75.2\n"
     ]
    }
   ],
   "source": [
    "total_marks=0\n",
    "for value in marks.values():\n",
    "    total_marks+= value\n",
    "mean_marks= total_marks/len(marks)\n",
    "print(mean_marks)"
   ]
  },
  {
   "cell_type": "code",
   "execution_count": 50,
   "id": "7c83ba1a",
   "metadata": {},
   "outputs": [
    {
     "data": {
      "text/plain": [
       "90"
      ]
     },
     "execution_count": 50,
     "metadata": {},
     "output_type": "execute_result"
    }
   ],
   "source": [
    "max(marks.values())\n"
   ]
  },
  {
   "cell_type": "code",
   "execution_count": 51,
   "id": "27d5f044",
   "metadata": {},
   "outputs": [
    {
     "data": {
      "text/plain": [
       "55"
      ]
     },
     "execution_count": 51,
     "metadata": {},
     "output_type": "execute_result"
    }
   ],
   "source": [
    "min(marks.values())"
   ]
  },
  {
   "cell_type": "markdown",
   "id": "76eeee2c",
   "metadata": {},
   "source": [
    "#### 6.3"
   ]
  },
  {
   "cell_type": "code",
   "execution_count": 8,
   "id": "d0a443ef",
   "metadata": {},
   "outputs": [
    {
     "name": "stdout",
     "output_type": "stream",
     "text": [
      "Andy\n",
      "Amy\n"
     ]
    }
   ],
   "source": [
    "marks={'Andy':88, 'Amy':66, 'James':90, 'Jules':55, 'Arthur':77}\n",
    "for n in marks:\n",
    "    if 'J' in n :\n",
    "        break\n",
    "    else:\n",
    "        print(n)\n",
    "        "
   ]
  },
  {
   "cell_type": "code",
   "execution_count": 10,
   "id": "b47527e2",
   "metadata": {},
   "outputs": [
    {
     "name": "stdout",
     "output_type": "stream",
     "text": [
      "Andy\n",
      "Amy\n",
      "Arthur\n"
     ]
    }
   ],
   "source": [
    "for n in marks:\n",
    "    if 'J' in n :\n",
    "        continue\n",
    "    else:\n",
    "        print(n)"
   ]
  }
 ],
 "metadata": {
  "kernelspec": {
   "display_name": "Python 3 (ipykernel)",
   "language": "python",
   "name": "python3"
  },
  "language_info": {
   "codemirror_mode": {
    "name": "ipython",
    "version": 3
   },
   "file_extension": ".py",
   "mimetype": "text/x-python",
   "name": "python",
   "nbconvert_exporter": "python",
   "pygments_lexer": "ipython3",
   "version": "3.9.13"
  }
 },
 "nbformat": 4,
 "nbformat_minor": 5
}
